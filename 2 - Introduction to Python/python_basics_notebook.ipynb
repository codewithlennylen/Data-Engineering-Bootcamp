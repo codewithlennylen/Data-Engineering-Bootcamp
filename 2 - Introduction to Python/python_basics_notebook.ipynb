{
 "cells": [
  {
   "cell_type": "code",
   "execution_count": null,
   "metadata": {},
   "outputs": [],
   "source": []
  }
 ],
 "metadata": {
  "kernelspec": {
   "display_name": "Python 3.8.9 ('venv': venv)",
   "language": "python",
   "name": "python3"
  },
  "language_info": {
   "name": "python",
   "version": "3.8.9"
  },
  "orig_nbformat": 4,
  "vscode": {
   "interpreter": {
    "hash": "078a7b9310792fae9066d37d8f5e96f096f2c7480fc7c622052a88c6b3c0c698"
   }
  }
 },
 "nbformat": 4,
 "nbformat_minor": 2
}
