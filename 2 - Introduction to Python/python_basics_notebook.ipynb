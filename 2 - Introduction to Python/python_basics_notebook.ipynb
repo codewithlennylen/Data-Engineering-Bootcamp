{
 "cells": [
  {
   "cell_type": "markdown",
   "metadata": {},
   "source": [
    "# Basic Python Concepts\n",
    "\n",
    "Hello, this notebook contains detailed Python code snippets.\n",
    "\n",
    "Read the [accompanying article here](https://codewithlennylen.hashnode.dev/introduction-to-python-for-data-engineering)"
   ]
  },
  {
   "cell_type": "markdown",
   "metadata": {},
   "source": [
    "## Variables\n",
    "\n",
    "A variable is a container that holds a certain value. We've seen this in Mathematics, for example\n",
    "\n",
    "```x = 40```\n",
    "\n",
    "Variables in Python are defined in a similar way:\n",
    "\n",
    "```variable_name = value```"
   ]
  },
  {
   "cell_type": "code",
   "execution_count": 3,
   "metadata": {},
   "outputs": [],
   "source": [
    "x = 10\n",
    "\n",
    "_y = 12.34\n",
    "\n",
    "my_name = 'Lenny'\n",
    "\n",
    "adult = True"
   ]
  },
  {
   "cell_type": "markdown",
   "metadata": {},
   "source": [
    "We have defined our variables above. However, there are rules to follow when creating variables:\n",
    "\n",
    "- Variable names must start with a letter or underscore: ```x = 10``` or ```_y = 12.34```\n",
    "- Variable names CANNOT have spaces. Use underscores to separate words: ```my_name = 'Lenny'```\n",
    "- Use Descriptive variable names such as ```my_name = 'Lenny'``` and NOT ```x = 10```\n",
    "- Variable names CANNOT be **keywords**\n",
    "\n",
    "Here's a list of Python keywords\n",
    "Literals\n",
    "\n",
    "### Python Data-types\n",
    "\n",
    "As you can see from the examples above, you can store different values in variables.\n",
    "\n",
    "- Strings - enclosed within double or single quotes: ```\"Hello, World!\"```\n",
    "- Integers - these are numbers without decimal points: ```2022```\n",
    "- Floats / Floating Point Integers - numbers with decimal points: ```3.14```\n",
    "- Booleans - these are variables storing either of two states: ```True``` or ```False```\n",
    "\n",
    "**Variables can store Data Structures as well. More on this later.**\n",
    "\n",
    "---"
   ]
  },
  {
   "cell_type": "markdown",
   "metadata": {},
   "source": [
    "## Math Expressions\n",
    "\n",
    "We need to add, subtract, divide and multiply values. And this is very easily implemented in Python.\n",
    "\n",
    "In the code below, you'll notice the pound (#) symbol. In Python, anything that follows the pound signal is a comment, and is not executed. It is meant to help programmers communicate their code."
   ]
  },
  {
   "cell_type": "code",
   "execution_count": 6,
   "metadata": {},
   "outputs": [
    {
     "name": "stdout",
     "output_type": "stream",
     "text": [
      "30\n"
     ]
    },
    {
     "data": {
      "text/plain": [
       "30"
      ]
     },
     "execution_count": 6,
     "metadata": {},
     "output_type": "execute_result"
    }
   ],
   "source": [
    "num_1 = 10\n",
    "num_2 = 20\n",
    "\n",
    "result = num_1 + num_2\n",
    "\n",
    "# To view the result, we want to use print to display the output\n",
    "print(result)\n",
    "\n",
    "# In Jupyter Notebook, you don't have to use print. You can simply type the variable name and the output is the same.\n",
    "result"
   ]
  },
  {
   "cell_type": "code",
   "execution_count": 12,
   "metadata": {},
   "outputs": [
    {
     "name": "stdout",
     "output_type": "stream",
     "text": [
      "60.0\n",
      "1500\n",
      "295\n",
      "2430000000000\n"
     ]
    }
   ],
   "source": [
    "x = 300\n",
    "y = 5\n",
    "\n",
    "# Division\n",
    "z = x / y \n",
    "print(z)\n",
    "\n",
    "# Multiplication\n",
    "z = x * y \n",
    "print(z)\n",
    "\n",
    "# Subtraction\n",
    "z = x - y \n",
    "print(z)\n",
    "\n",
    "# Exponentiation (x to the power of y)\n",
    "z = x ** y \n",
    "print(z)"
   ]
  },
  {
   "cell_type": "markdown",
   "metadata": {},
   "source": [
    "There are many more Mathematical expressions in Python. Some of which you'll find useful and others that you won't regularly use. The ones above will get you started in most beginner projects /  applications.\n",
    "\n",
    "Read more about Math Operators in Python by clicking here.\n",
    "\n",
    "---"
   ]
  },
  {
   "cell_type": "markdown",
   "metadata": {},
   "source": [
    "## Lists and Tuples\n",
    "\n",
    "Variables can store different types of values. But only one value. What if you want to store a list of names? Or a list of numbers?\n",
    "\n",
    "We can use lists and tuples to store multiple items."
   ]
  },
  {
   "cell_type": "code",
   "execution_count": 20,
   "metadata": {},
   "outputs": [
    {
     "name": "stdout",
     "output_type": "stream",
     "text": [
      "[10, 20, 30, 40, 50]\n",
      "[10, 20.345, '30', 'Lenny', False]\n"
     ]
    }
   ],
   "source": [
    "# a list of integers\n",
    "my_list = [10,20,30,40,50]\n",
    "print(my_list)\n",
    "\n",
    "# a list containing many types\n",
    "my_list2 = [10,20.345,\"30\",\"Lenny\",False]\n",
    "print(my_list2)"
   ]
  },
  {
   "cell_type": "markdown",
   "metadata": {},
   "source": [
    "As you can see above, a list is first of all defined by enclosing values within square brackets. ```[]```\n",
    "You can store a different data types in a list.\n",
    "\n",
    "You can even store a list within another list! This is called **Nesting**"
   ]
  },
  {
   "cell_type": "code",
   "execution_count": 19,
   "metadata": {},
   "outputs": [
    {
     "data": {
      "text/plain": [
       "[1, 2, 3, [4, 5, 6], ['Lenny', 'Jane', 'Alex']]"
      ]
     },
     "execution_count": 19,
     "metadata": {},
     "output_type": "execute_result"
    }
   ],
   "source": [
    "# a list within a list\n",
    "nested_list = [1,2,3,[4,5,6],[\"Lenny\",\"Jane\",\"Alex\"]]\n",
    "nested_list"
   ]
  },
  {
   "cell_type": "markdown",
   "metadata": {},
   "source": [
    "Tuples are pretty similar to lists as you can see from the examples below.\n",
    "\n",
    "The major difference between a list and a tuple is that a list is **mutable**, while a tuple is **immutable**. Which is another way of saying,*\"You can edit a list after you create it but you can't edit a tuple after creating it.\"*\n",
    "More on this later."
   ]
  },
  {
   "cell_type": "code",
   "execution_count": 18,
   "metadata": {},
   "outputs": [
    {
     "name": "stdout",
     "output_type": "stream",
     "text": [
      "(10, 20, 30, 40, 50)\n",
      "(10, 20.345, '30', 'Lenny', False)\n"
     ]
    },
    {
     "data": {
      "text/plain": [
       "(1, 2, 3, (4, 5, 6), ('Lenny', 'Jane', 'Alex'))"
      ]
     },
     "execution_count": 18,
     "metadata": {},
     "output_type": "execute_result"
    }
   ],
   "source": [
    "# a tuple of integers\n",
    "my_tuple = (10,20,30,40,50)\n",
    "print(my_tuple)\n",
    "\n",
    "# multiple data types\n",
    "my_tuple2 = (10,20.345,\"30\",\"Lenny\",False)\n",
    "print(my_tuple2)\n",
    "\n",
    "# a tuple within a tuple\n",
    "nested_tuple = (1,2,3,(4,5,6),(\"Lenny\",\"Jane\",\"Alex\"))\n",
    "nested_tuple"
   ]
  },
  {
   "cell_type": "markdown",
   "metadata": {},
   "source": [
    "---"
   ]
  },
  {
   "cell_type": "markdown",
   "metadata": {},
   "source": [
    "## Conditional Expressions\n",
    "\n",
    "These expressions allow us to ask questions in code. They allow us to set conditions under which certain blocks of code are executed."
   ]
  },
  {
   "cell_type": "code",
   "execution_count": 1,
   "metadata": {},
   "outputs": [
    {
     "name": "stdout",
     "output_type": "stream",
     "text": [
      "Access Granted\n"
     ]
    }
   ],
   "source": [
    "age = 20\n",
    "\n",
    "if age >= 18:\n",
    "    print(\"Access Granted\")\n",
    "else:\n",
    "    print(\"Access Denied\")\n"
   ]
  },
  {
   "cell_type": "markdown",
   "metadata": {},
   "source": [
    "We set conditions using the ```if``` statement. The structure is as follows:\n",
    "\n",
    "```\n",
    "if condition:\n",
    "    do something\n",
    "else:\n",
    "    do something else\n",
    "```\n",
    "\n",
    "We can set conditions using **Comparison Operators**\n",
    "\n",
    "### Comparison operators in python\n",
    "- ```a == b``` - a equal to b\n",
    "- ```a >= b``` - a greater than or equal to b\n",
    "- ```a <= b``` - a less than or equal to b\n",
    "- ```a != b``` - a not equal to b\n",
    "- ```a < b``` - a less than b\n",
    "- ```a > b``` - a greater than b\n",
    "\n",
    "We can then check whether the conditions are met using the if-statement\n",
    "\n",
    "Note that we can nest if statements using elif as shown below."
   ]
  },
  {
   "cell_type": "code",
   "execution_count": 2,
   "metadata": {},
   "outputs": [
    {
     "name": "stdout",
     "output_type": "stream",
     "text": [
      "Post Covid-19 Pandemic\n"
     ]
    }
   ],
   "source": [
    "year = 2022\n",
    "\n",
    "if year < 2020:\n",
    "    print('Pre Covid-19 Pandemic')\n",
    "elif year == 2020:\n",
    "    print(\"Covid-19 Pandemic\")\n",
    "else:\n",
    "    print(\"Post Covid-19 Pandemic\")"
   ]
  },
  {
   "cell_type": "markdown",
   "metadata": {},
   "source": [
    "Python allows for cool Math Expressions such as the one shown below"
   ]
  },
  {
   "cell_type": "code",
   "execution_count": 3,
   "metadata": {},
   "outputs": [
    {
     "name": "stdout",
     "output_type": "stream",
     "text": [
      "Covid-19 Era\n"
     ]
    }
   ],
   "source": [
    "year = 2021\n",
    "\n",
    "if 2020 < year < 2022:\n",
    "    print(\"Covid-19 Era\")\n"
   ]
  },
  {
   "cell_type": "markdown",
   "metadata": {},
   "source": [
    "---"
   ]
  },
  {
   "cell_type": "markdown",
   "metadata": {},
   "source": [
    "## Loops\n",
    "\n",
    "Loops allow us to run a particular task repeatedly.\n",
    "\n",
    "There are two types of loops in Python:\n",
    "- for loops\n",
    "- while loops\n",
    "\n",
    "### For Loops\n",
    "\n",
    "These are particularly useful when iterating / going through lists / tuples."
   ]
  },
  {
   "cell_type": "code",
   "execution_count": 6,
   "metadata": {},
   "outputs": [
    {
     "name": "stdout",
     "output_type": "stream",
     "text": [
      "5\n"
     ]
    }
   ],
   "source": [
    "# The code below counts the number of student scores greater than 80\n",
    "\n",
    "student_scores = (30,45,68,90,89,86,93,57,87,43,79)\n",
    "number_of_students_above_80 = 0\n",
    "\n",
    "for score in student_scores:\n",
    "    if score > 80:\n",
    "        number_of_students_above_80 += 1\n",
    "        \n",
    "print(number_of_students_above_80)"
   ]
  },
  {
   "cell_type": "markdown",
   "metadata": {},
   "source": [
    "The code above looks complicated because we've applied various different concepts. Understanding these basic concepts will go a long way into making you a competent programmer.\n",
    "\n",
    "Firstly, the structure of the for-loop above is as follows:\n",
    " ``` \n",
    "for item in iterable:\n",
    "    if item meets condition:\n",
    "        add one to the variable\n",
    "```\n"
   ]
  },
  {
   "cell_type": "markdown",
   "metadata": {},
   "source": [
    "### While Loops\n",
    "\n",
    "These are particularly useful when repeating a task until a condition is met"
   ]
  },
  {
   "cell_type": "code",
   "execution_count": 7,
   "metadata": {},
   "outputs": [
    {
     "name": "stdout",
     "output_type": "stream",
     "text": [
      "Good job, keep going\n",
      "Lives remaining:  3\n",
      "Good job, keep going\n",
      "Lives remaining:  2\n",
      "Good job, keep going\n",
      "Lives remaining:  1\n",
      "Game Over\n"
     ]
    }
   ],
   "source": [
    "\n",
    "# Consider a video game wth a character having 3 lives, after which it's Game Over\n",
    "lives = 3\n",
    "while lives > 0:\n",
    "    print(\"Good job, keep going\")\n",
    "    print(\"Lives remaining: \", lives)\n",
    "    \n",
    "    # let's say the player does something and loses a life\n",
    "    lives -= 1\n",
    "\n",
    "# after the loop is complete, the game is over\n",
    "print('Game Over')"
   ]
  },
  {
   "cell_type": "markdown",
   "metadata": {},
   "source": [
    "The structure of the while-loop above is:\n",
    "\n",
    "```\n",
    "while condition is met:\n",
    "    keep displaying the lives / allow player to keep playing\n",
    "    decrease lives by one to simulate a wrong move\n",
    "\n",
    "print game over after lives reaches 0\n",
    "```\n",
    "\n",
    "You can write loops in various ways and combine multiple concepts to solve a variety of problems. You'll often find multiple ways to solve the same problem in programming.\n",
    "\n",
    "---"
   ]
  },
  {
   "cell_type": "markdown",
   "metadata": {},
   "source": [
    "## Functions\n",
    "\n",
    "This is widely considered the concept to understand in order to start building projects. Functions allow you to organize your code into blocks that you can repetitively use throughout your program.\n",
    "\n",
    "Use the ```def``` keyword to define a function."
   ]
  },
  {
   "cell_type": "code",
   "execution_count": 8,
   "metadata": {},
   "outputs": [],
   "source": [
    "def print_my_name_5_times():\n",
    "    print(\"Lenny\")\n",
    "    print(\"Lenny\")\n",
    "    print(\"Lenny\")\n",
    "    print(\"Lenny\")\n",
    "    print(\"Lenny\")"
   ]
  },
  {
   "cell_type": "markdown",
   "metadata": {},
   "source": [
    "The structure of a function is as follows:\n",
    "\n",
    "```\n",
    "def function_name:\n",
    "    block of code\n",
    "```\n",
    "\n",
    "The rules for function names are the same as those of variable names.\n",
    "\n",
    "To use a function, i.e. make the function do something, we have to *call* it."
   ]
  },
  {
   "cell_type": "code",
   "execution_count": 9,
   "metadata": {},
   "outputs": [
    {
     "name": "stdout",
     "output_type": "stream",
     "text": [
      "Lenny\n",
      "Lenny\n",
      "Lenny\n",
      "Lenny\n",
      "Lenny\n"
     ]
    }
   ],
   "source": [
    "print_my_name_5_times()"
   ]
  },
  {
   "cell_type": "markdown",
   "metadata": {},
   "source": [
    "Calling a function simply refers to writing its name followed by the parentheses, wherever and whenever you need it to run.\n",
    "\n",
    "What if I wanted to print my name 50 times??? Here's where loops come in handy"
   ]
  },
  {
   "cell_type": "markdown",
   "metadata": {},
   "source": [
    "### Using a while loop"
   ]
  },
  {
   "cell_type": "code",
   "execution_count": 10,
   "metadata": {},
   "outputs": [],
   "source": [
    "def print_my_name_50_times():\n",
    "    num = 0\n",
    "    while num < 50:\n",
    "        print(\"Lenny\")"
   ]
  },
  {
   "cell_type": "markdown",
   "metadata": {},
   "source": [
    "### Using a for loop"
   ]
  },
  {
   "cell_type": "code",
   "execution_count": 11,
   "metadata": {},
   "outputs": [],
   "source": [
    "def print_my_name_50_times():\n",
    "    for i in range(50):\n",
    "        print(\"Lenny\")"
   ]
  },
  {
   "cell_type": "markdown",
   "metadata": {},
   "source": [
    "Both implementations above work, but using different concepts.\n",
    "\n",
    "In this case, While loops are easy to understand but longer to write while for loops are more concise but not very intuitive."
   ]
  },
  {
   "cell_type": "markdown",
   "metadata": {},
   "source": [
    "### Parameters in Functions\n",
    "\n",
    "It is common practice to have functions that require inputs. Take a look at the function below."
   ]
  },
  {
   "cell_type": "code",
   "execution_count": 1,
   "metadata": {},
   "outputs": [],
   "source": [
    "def add(a,b):\n",
    "    result = a + b\n",
    "    \n",
    "    return result"
   ]
  },
  {
   "cell_type": "markdown",
   "metadata": {},
   "source": [
    "The function defined above takes in two inputs; ```a``` & ```b```\n",
    "\n",
    "It then adds the two inputs together and stores that in a variable called ```result```.\n",
    "\n",
    "Finally, it ```returns``` the result.\n",
    "\n",
    "Let's see the function in action"
   ]
  },
  {
   "cell_type": "code",
   "execution_count": 2,
   "metadata": {},
   "outputs": [
    {
     "name": "stdout",
     "output_type": "stream",
     "text": [
      "90\n"
     ]
    }
   ],
   "source": [
    "num_1 = 50\n",
    "num_2 = 40\n",
    "\n",
    "num_3 = add(num_1,num_2)\n",
    "\n",
    "print(num_3)"
   ]
  },
  {
   "cell_type": "markdown",
   "metadata": {},
   "source": [
    "We have defined 3 variables. ```num_1``` and ```num_2``` store two integers, while ```num_3``` stores the result returned by the ```add``` function.\n",
    "\n",
    "We have just scratched the surface of defining and using **Functions in Python**. You can use functions to organize your code and later, learn how to create your own **libraries & packages**.\n",
    "\n",
    "---"
   ]
  },
  {
   "cell_type": "markdown",
   "metadata": {},
   "source": [
    "## What's Next?\n",
    "\n",
    "Python is really powerful and from the examples above, relative to other languages, is very easy to read and write.\n",
    "\n",
    "Read the [accompanying article here](https://codewithlennylen.hashnode.dev/introduction-to-python-for-data-engineering)\n",
    "\n",
    "Other Important Concepts in your Python Journey (resources included):\n",
    "\n",
    "- [Using Libraries & modules](https://www.geeksforgeeks.org/libraries-in-python/)\n",
    "- [Writing / storing data in Files as well as reading from them](https://www.programiz.com/python-programming/file-operation)\n",
    "- [Object Oriented Programming (OOP)](https://realpython.com/python3-object-oriented-programming/)\n",
    "- [Working with Dates and Times](https://www.dataquest.io/blog/python-datetime/)\n",
    "- [Working with APIs](https://rapidapi.com/blog/how-to-use-an-api/)\n",
    "- [Data Structures and Algorithms](https://www.programiz.com/dsa)\n",
    "\n",
    "More applicable uses of the Language (resources included):\n",
    "\n",
    "- [Artificial Intelligence & Machine Learning Applications](https://machinelearningmastery.com/machine-learning-in-python-step-by-step/)\n",
    "- [Play GTA V using Python!](https://www.youtube.com/playlist?list=PLQVvvaa0QuDeETZEOy4VdocT7TOjfSA8a)\n",
    "- [Making Games in Python](https://codewithlennylen254.pythonanywhere.com/Game%20Development/)\n",
    "- [Making Desktop apps in Python](https://medium.com/analytics-vidhya/how-to-build-your-first-desktop-application-in-python-7568c7d74311)\n",
    "- [Making chat applications in Python](https://www.geeksforgeeks.org/simple-chat-room-using-python/)\n",
    "- [Build a Notes web app](https://www.youtube.com/watch?v=dam0GPOAvVI)\n",
    "- [Robotics](https://www.theconstructsim.com/robotigniteacademy_learnros/ros-courses-library/python-robotics/)\n",
    "- [Electronics - Raspberry Pi](https://www.youtube.com/playlist?list=PLQVvvaa0QuDesV8WWHLLXW_avmTzHmJLv)\n",
    "\n",
    "... and much much more. A quick Google search on the applications of Python will yield hundreds of thousands of results.\n",
    "\n",
    "#### GLHF\n",
    "\n",
    "---"
   ]
  }
 ],
 "metadata": {
  "kernelspec": {
   "display_name": "Python 3.8.9 ('venv': venv)",
   "language": "python",
   "name": "python3"
  },
  "language_info": {
   "codemirror_mode": {
    "name": "ipython",
    "version": 3
   },
   "file_extension": ".py",
   "mimetype": "text/x-python",
   "name": "python",
   "nbconvert_exporter": "python",
   "pygments_lexer": "ipython3",
   "version": "3.8.9"
  },
  "orig_nbformat": 4,
  "vscode": {
   "interpreter": {
    "hash": "078a7b9310792fae9066d37d8f5e96f096f2c7480fc7c622052a88c6b3c0c698"
   }
  }
 },
 "nbformat": 4,
 "nbformat_minor": 2
}
